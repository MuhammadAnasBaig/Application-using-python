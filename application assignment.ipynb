{
 "cells": [
  {
   "cell_type": "code",
   "execution_count": 1,
   "id": "9a57e3c6",
   "metadata": {},
   "outputs": [],
   "source": [
    "a = 5 #"
   ]
  },
  {
   "cell_type": "code",
   "execution_count": 2,
   "id": "244b5d82",
   "metadata": {},
   "outputs": [
    {
     "data": {
      "text/plain": [
       "5"
      ]
     },
     "execution_count": 2,
     "metadata": {},
     "output_type": "execute_result"
    }
   ],
   "source": [
    "a"
   ]
  },
  {
   "cell_type": "code",
   "execution_count": 3,
   "id": "5c85db94",
   "metadata": {},
   "outputs": [],
   "source": [
    "a =\"xyz\" #"
   ]
  },
  {
   "cell_type": "code",
   "execution_count": 4,
   "id": "a9bd63c1",
   "metadata": {},
   "outputs": [
    {
     "data": {
      "text/plain": [
       "'xyz'"
      ]
     },
     "execution_count": 4,
     "metadata": {},
     "output_type": "execute_result"
    }
   ],
   "source": [
    "a"
   ]
  },
  {
   "cell_type": "code",
   "execution_count": 9,
   "id": "e3c6431e",
   "metadata": {},
   "outputs": [
    {
     "name": "stdout",
     "output_type": "stream",
     "text": [
      "xyz\n"
     ]
    }
   ],
   "source": [
    "print(a) # for print "
   ]
  },
  {
   "cell_type": "code",
   "execution_count": 11,
   "id": "f46a9beb",
   "metadata": {},
   "outputs": [
    {
     "data": {
      "text/plain": [
       "str"
      ]
     },
     "execution_count": 11,
     "metadata": {},
     "output_type": "execute_result"
    }
   ],
   "source": [
    "type(a) #for checking type"
   ]
  },
  {
   "cell_type": "code",
   "execution_count": 7,
   "id": "bd4980d1",
   "metadata": {},
   "outputs": [
    {
     "name": "stdout",
     "output_type": "stream",
     "text": [
      "x\n",
      "y\n",
      "z\n"
     ]
    }
   ],
   "source": [
    "print(\"x\\ny\\nz\")"
   ]
  },
  {
   "cell_type": "code",
   "execution_count": 8,
   "id": "b54b5617",
   "metadata": {},
   "outputs": [
    {
     "name": "stdout",
     "output_type": "stream",
     "text": [
      "x\ty\tz\n"
     ]
    }
   ],
   "source": [
    "print(\"x\\ty\\tz\") # t for horizontal rows"
   ]
  },
  {
   "cell_type": "code",
   "execution_count": 32,
   "id": "f3f618da",
   "metadata": {},
   "outputs": [
    {
     "name": "stdout",
     "output_type": "stream",
     "text": [
      "To\n",
      "The Manger\n",
      "Company\n",
      "\t\t\t\t\t\tSubject:One day leave\n",
      "Respected Sir/Ma'am,\n",
      "       A leave application for office is essential for taking a leave of absence from work for various reasons.\n",
      " It is professional courtesy to notify your employer about your intention, and it can prevent them from experiencing\n",
      " any work-related inconvenience during your absence.\n",
      "\n",
      "                                                             Thank you,\n",
      "Your's Sincerely,\n",
      "Your Name,\n",
      "Date:-02/02/2023\n"
     ]
    }
   ],
   "source": [
    "print(\"To\\nThe Manger\\nCompany\")\n",
    "print(\"\\t\\t\\t\\t\\t\\tSubject:One day leave\" )\n",
    "print(\"Respected Sir/Ma'am,\")\n",
    "print(\"       A leave application for office is essential for taking a leave of absence from work for various reasons.\\n It is professional courtesy to notify your employer about your intention, and it can prevent them from experiencing\\n any work-related inconvenience during your absence.\\n\")\n",
    "print(\"                                                             Thank you,\")\n",
    "print(\"Your's Sincerely,\")\n",
    "print(\"Your Name,\")\n",
    "print(\"Date:-02/02/2023\")"
   ]
  },
  {
   "cell_type": "code",
   "execution_count": null,
   "id": "fcdbd908",
   "metadata": {},
   "outputs": [],
   "source": [
    "\n",
    "\n",
    "\n",
    "\n",
    "\n",
    "\n",
    "\n",
    "\n",
    "\n",
    "\n",
    "\n",
    "\n",
    "\n",
    "\n",
    "\n",
    "\n",
    "\n"
   ]
  },
  {
   "cell_type": "code",
   "execution_count": null,
   "id": "5d7a67a7",
   "metadata": {},
   "outputs": [],
   "source": []
  }
 ],
 "metadata": {
  "kernelspec": {
   "display_name": "Python 3 (ipykernel)",
   "language": "python",
   "name": "python3"
  },
  "language_info": {
   "codemirror_mode": {
    "name": "ipython",
    "version": 3
   },
   "file_extension": ".py",
   "mimetype": "text/x-python",
   "name": "python",
   "nbconvert_exporter": "python",
   "pygments_lexer": "ipython3",
   "version": "3.9.12"
  }
 },
 "nbformat": 4,
 "nbformat_minor": 5
}
